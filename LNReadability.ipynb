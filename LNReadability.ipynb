{
 "cells": [
  {
   "cell_type": "markdown",
   "metadata": {
    "id": "S7r8XRQ5yeOi"
   },
   "source": [
    "### Pre-Run Setup Steps\n",
    "\n",
    "Files need to available in Google drive or Notebook instance.\n",
    "\n",
    "In order to run this notebook 3 files are neccessary:\n",
    "\n",
    "\n",
    "*   Training data for estimation - default: **data.csv**\n",
    "*   Frequency file - default: **freq.txt**\n",
    "*   Text file to analyze - default: ***.txt and *.epub**\n",
    "\n",
    "\n",
    "# Google Drive:\n",
    "\n",
    "1.   In Google Drive, create a folder named ln-recommender on the root of MyDrive\n",
    "2.   Upload the text/epub files to your ln-readability folder\n",
    "3.   Adjust filename parameters accordingly\n",
    "\n",
    "# Notebook instance:\n",
    "\n",
    "1.   Upload the text/epub files to the Notebook instance\n",
    "2.   Adjust path parameters accordingly\n"
   ]
  },
  {
   "cell_type": "code",
   "execution_count": null,
   "metadata": {
    "cellView": "form",
    "id": "nmv-S-dGyjK4"
   },
   "outputs": [],
   "source": [
    "# @title  Step 1 - Mount Google Drive root folder (optional)\n",
    "from google.colab import drive\n",
    "\n",
    "drive.mount(\"/content/drive\")"
   ]
  },
  {
   "cell_type": "code",
   "execution_count": 1,
   "metadata": {
    "cellView": "form",
    "colab": {
     "base_uri": "https://localhost:8080/"
    },
    "id": "s0cKrmQVyzAu",
    "outputId": "07adc5c5-6fb6-4c4e-85ac-beadf94202b7"
   },
   "outputs": [
    {
     "name": "stdout",
     "output_type": "stream",
     "text": [
      "Cloning into 'ln-recommender'...\n",
      "remote: Enumerating objects: 17, done.\u001b[K\n",
      "remote: Counting objects: 100% (17/17), done.\u001b[K\n",
      "remote: Compressing objects: 100% (17/17), done.\u001b[K\n",
      "remote: Total 17 (delta 0), reused 17 (delta 0), pack-reused 0\u001b[K\n",
      "Receiving objects: 100% (17/17), 841.82 KiB | 2.54 MiB/s, done.\n",
      "ln-recommender\tsample_data\n",
      "/content/ln-recommender\n",
      "data.csv  freq.txt  LICENSE  ln_recommender  pyproject.toml  README.md\n",
      "Already up to date.\n"
     ]
    }
   ],
   "source": [
    "# @title Step 2 - Download the latest version\n",
    "!git clone 'https://github.com/Gilfaro/ln-recommender.git'\n",
    "!ls\n",
    "%cd /content/ln-recommender\n",
    "!ls\n",
    "!git pull"
   ]
  },
  {
   "cell_type": "code",
   "execution_count": 3,
   "metadata": {
    "cellView": "form",
    "colab": {
     "base_uri": "https://localhost:8080/"
    },
    "id": "HUBBTKHz1WD5",
    "outputId": "9052bf0e-8128-4673-808c-9ff09d597883"
   },
   "outputs": [
    {
     "name": "stdout",
     "output_type": "stream",
     "text": [
      "Processing /content/ln-recommender\n",
      "  Installing build dependencies ... \u001b[?25l\u001b[?25hdone\n",
      "  Getting requirements to build wheel ... \u001b[?25l\u001b[?25hdone\n",
      "  Installing backend dependencies ... \u001b[?25l\u001b[?25hdone\n",
      "  Preparing metadata (pyproject.toml) ... \u001b[?25l\u001b[?25hdone\n",
      "Requirement already satisfied: sudachipy~=0.6.8 in /usr/local/lib/python3.10/dist-packages (from ln-recommender==1.0.0) (0.6.8)\n",
      "Requirement already satisfied: sudachidict-full==20240409 in /usr/local/lib/python3.10/dist-packages (from ln-recommender==1.0.0) (20240409)\n",
      "Requirement already satisfied: numpy~=1.26.4 in /usr/local/lib/python3.10/dist-packages (from ln-recommender==1.0.0) (1.26.4)\n",
      "Requirement already satisfied: scikit-learn~=1.5.0 in /usr/local/lib/python3.10/dist-packages (from ln-recommender==1.0.0) (1.5.0)\n",
      "Requirement already satisfied: pandas~=2.2.2 in /usr/local/lib/python3.10/dist-packages (from ln-recommender==1.0.0) (2.2.2)\n",
      "Requirement already satisfied: scipy~=1.13.1 in /usr/local/lib/python3.10/dist-packages (from ln-recommender==1.0.0) (1.13.1)\n",
      "Requirement already satisfied: catboost~=1.2.5 in /usr/local/lib/python3.10/dist-packages (from ln-recommender==1.0.0) (1.2.5)\n",
      "Requirement already satisfied: beautifulsoup4~=4.12.3 in /usr/local/lib/python3.10/dist-packages (from ln-recommender==1.0.0) (4.12.3)\n",
      "Requirement already satisfied: ebooklib~=0.18 in /usr/local/lib/python3.10/dist-packages (from ln-recommender==1.0.0) (0.18)\n",
      "Requirement already satisfied: soupsieve>1.2 in /usr/local/lib/python3.10/dist-packages (from beautifulsoup4~=4.12.3->ln-recommender==1.0.0) (2.5)\n",
      "Requirement already satisfied: graphviz in /usr/local/lib/python3.10/dist-packages (from catboost~=1.2.5->ln-recommender==1.0.0) (0.20.3)\n",
      "Requirement already satisfied: matplotlib in /usr/local/lib/python3.10/dist-packages (from catboost~=1.2.5->ln-recommender==1.0.0) (3.7.1)\n",
      "Requirement already satisfied: plotly in /usr/local/lib/python3.10/dist-packages (from catboost~=1.2.5->ln-recommender==1.0.0) (5.15.0)\n",
      "Requirement already satisfied: six in /usr/local/lib/python3.10/dist-packages (from catboost~=1.2.5->ln-recommender==1.0.0) (1.16.0)\n",
      "Requirement already satisfied: lxml in /usr/local/lib/python3.10/dist-packages (from ebooklib~=0.18->ln-recommender==1.0.0) (4.9.4)\n",
      "Requirement already satisfied: python-dateutil>=2.8.2 in /usr/local/lib/python3.10/dist-packages (from pandas~=2.2.2->ln-recommender==1.0.0) (2.8.2)\n",
      "Requirement already satisfied: pytz>=2020.1 in /usr/local/lib/python3.10/dist-packages (from pandas~=2.2.2->ln-recommender==1.0.0) (2023.4)\n",
      "Requirement already satisfied: tzdata>=2022.7 in /usr/local/lib/python3.10/dist-packages (from pandas~=2.2.2->ln-recommender==1.0.0) (2024.1)\n",
      "Requirement already satisfied: joblib>=1.2.0 in /usr/local/lib/python3.10/dist-packages (from scikit-learn~=1.5.0->ln-recommender==1.0.0) (1.4.2)\n",
      "Requirement already satisfied: threadpoolctl>=3.1.0 in /usr/local/lib/python3.10/dist-packages (from scikit-learn~=1.5.0->ln-recommender==1.0.0) (3.5.0)\n",
      "Requirement already satisfied: contourpy>=1.0.1 in /usr/local/lib/python3.10/dist-packages (from matplotlib->catboost~=1.2.5->ln-recommender==1.0.0) (1.2.1)\n",
      "Requirement already satisfied: cycler>=0.10 in /usr/local/lib/python3.10/dist-packages (from matplotlib->catboost~=1.2.5->ln-recommender==1.0.0) (0.12.1)\n",
      "Requirement already satisfied: fonttools>=4.22.0 in /usr/local/lib/python3.10/dist-packages (from matplotlib->catboost~=1.2.5->ln-recommender==1.0.0) (4.53.0)\n",
      "Requirement already satisfied: kiwisolver>=1.0.1 in /usr/local/lib/python3.10/dist-packages (from matplotlib->catboost~=1.2.5->ln-recommender==1.0.0) (1.4.5)\n",
      "Requirement already satisfied: packaging>=20.0 in /usr/local/lib/python3.10/dist-packages (from matplotlib->catboost~=1.2.5->ln-recommender==1.0.0) (24.0)\n",
      "Requirement already satisfied: pillow>=6.2.0 in /usr/local/lib/python3.10/dist-packages (from matplotlib->catboost~=1.2.5->ln-recommender==1.0.0) (9.4.0)\n",
      "Requirement already satisfied: pyparsing>=2.3.1 in /usr/local/lib/python3.10/dist-packages (from matplotlib->catboost~=1.2.5->ln-recommender==1.0.0) (3.1.2)\n",
      "Requirement already satisfied: tenacity>=6.2.0 in /usr/local/lib/python3.10/dist-packages (from plotly->catboost~=1.2.5->ln-recommender==1.0.0) (8.3.0)\n",
      "Building wheels for collected packages: ln-recommender\n",
      "  Building wheel for ln-recommender (pyproject.toml) ... \u001b[?25l\u001b[?25hdone\n",
      "  Created wheel for ln-recommender: filename=ln_recommender-1.0.0-py3-none-any.whl size=9631 sha256=7cee430985ebf3d8442b14fcf4191d7a7789192b6fccf795d901e6f1b7c9d6a3\n",
      "  Stored in directory: /root/.cache/pip/wheels/53/6a/78/0ed48613f6f62d3e9865a5a8ef05fc31f01c4d413b0b2b799c\n",
      "Successfully built ln-recommender\n",
      "Installing collected packages: ln-recommender\n",
      "  Attempting uninstall: ln-recommender\n",
      "    Found existing installation: ln-recommender 1.0.0\n",
      "    Uninstalling ln-recommender-1.0.0:\n",
      "      Successfully uninstalled ln-recommender-1.0.0\n",
      "Successfully installed ln-recommender-1.0.0\n"
     ]
    }
   ],
   "source": [
    "# @title Step 3 - Setup Dependencies\n",
    "!PIP_IGNORE_INSTALLED=0 pip install ."
   ]
  },
  {
   "cell_type": "code",
   "execution_count": 5,
   "metadata": {
    "cellView": "form",
    "colab": {
     "base_uri": "https://localhost:8080/"
    },
    "id": "aCNt_jY-1vPG",
    "outputId": "d84142f6-6bfd-4c7f-9fb3-2fd891e22504"
   },
   "outputs": [
    {
     "name": "stdout",
     "output_type": "stream",
     "text": [
      "usage: ln-recommender eval [-h] [-d DIRS [DIRS ...]] [-t TEXT [TEXT ...]] [-f FREQ]\n",
      "                           [-ml MODEL_LOAD] [-ms MODEL_SAVE] [-td TRAINING_DATA]\n",
      "                           [-ev | --eval-mode | --no-eval-mode] [-o OUTPUT_CSV]\n",
      "\n",
      "options:\n",
      "  -h, --help            show this help message and exit\n",
      "\n",
      "Main arguments:\n",
      "  -d DIRS [DIRS ...], --dirs DIRS [DIRS ...]\n",
      "                        List of folders to pull text from\n",
      "  -t TEXT [TEXT ...], --text TEXT [TEXT ...]\n",
      "                        List of paths to single files\n",
      "  -f FREQ, --freq FREQ  Path to the frequency file\n",
      "  -ml MODEL_LOAD, --model-load MODEL_LOAD\n",
      "                        Path to the model file to load\n",
      "  -ms MODEL_SAVE, --model-save MODEL_SAVE\n",
      "                        Path to the model file to save\n",
      "  -td TRAINING_DATA, --training-data TRAINING_DATA\n",
      "                        Path to the training data file\n",
      "  -ev, --eval-mode, --no-eval-mode\n",
      "                        Use 80% of data to train and 20% to evaluate during training (default:\n",
      "                        False)\n",
      "  -o OUTPUT_CSV, --output-csv OUTPUT_CSV\n",
      "                        Output csv of analysis and estimation\n",
      "ls: cannot access '/content/drive/MyDrive/sync/*': No such file or directory\n"
     ]
    }
   ],
   "source": [
    "# Show contents of your Drive\n",
    "# The folder and its contents should be set up as described in https://github.com/Gilfaro/ln-recommender\n",
    "\n",
    "# See parameters here that you can change in the next cell. Remove the # below to run\n",
    "# @title Step 4 - Verify installation\n",
    "!ln-recommender eval -h\n",
    "!ls /content/drive/MyDrive/ln-recommender/*"
   ]
  },
  {
   "cell_type": "code",
   "execution_count": 6,
   "metadata": {
    "cellView": "form",
    "colab": {
     "base_uri": "https://localhost:8080/"
    },
    "id": "8GSEPtw8vJtE",
    "outputId": "78d5a3f5-ddd2-4436-f690-6cc1c1712599"
   },
   "outputs": [
    {
     "name": "stdout",
     "output_type": "stream",
     "text": [
      "Learning rate set to 0.065131\n",
      "0:\tlearn: 1.7682926\ttotal: 47.6ms\tremaining: 47.5s\n",
      "100:\tlearn: 0.4433569\ttotal: 127ms\tremaining: 1.13s\n",
      "200:\tlearn: 0.1619745\ttotal: 208ms\tremaining: 825ms\n",
      "300:\tlearn: 0.0920499\ttotal: 295ms\tremaining: 685ms\n",
      "400:\tlearn: 0.0627360\ttotal: 376ms\tremaining: 561ms\n",
      "500:\tlearn: 0.0471658\ttotal: 458ms\tremaining: 456ms\n",
      "600:\tlearn: 0.0378317\ttotal: 539ms\tremaining: 358ms\n",
      "700:\tlearn: 0.0314850\ttotal: 630ms\tremaining: 269ms\n",
      "800:\tlearn: 0.0268500\ttotal: 734ms\tremaining: 182ms\n",
      "900:\tlearn: 0.0233769\ttotal: 817ms\tremaining: 89.8ms\n",
      "999:\tlearn: 0.0207534\ttotal: 908ms\tremaining: 0us\n"
     ]
    }
   ],
   "source": [
    "# @title Step 4 - Train model\n",
    "input_data = \"data.csv\"  # @param {type:\"string\"}\n",
    "\n",
    "!ln-recommender train -td \"{input_data}\" -ms model.cbm"
   ]
  },
  {
   "cell_type": "code",
   "execution_count": 16,
   "metadata": {
    "cellView": "form",
    "colab": {
     "base_uri": "https://localhost:8080/"
    },
    "id": "UtGOwhEGzAQA",
    "outputId": "8a49ac66-1ea9-4ae2-ba74-4c421d64e1b6"
   },
   "outputs": [
    {
     "name": "stdout",
     "output_type": "stream",
     "text": [
      "\n",
      "Filename: dy.txt\n",
      "Use the line below with difficulty label to add new training data\n",
      "573.00,2105.00,7455.00,18866.00,47405.64,10.48,8.00,1.00\n",
      "Readability: medium\n",
      "Readability 70% frequency: 573\n",
      "Readability 80% frequency: 2105\n",
      "Readability 90% frequency: 7455\n",
      "Readability 95% frequency: 18866\n",
      "Readability 99% frequency: 47406\n",
      "Avg Sentence Length: 10.48\n",
      "Median Sentence Length: 8.00\n",
      "Mode Sentence Length: 1.00\n"
     ]
    }
   ],
   "source": [
    "# @title Step 5 - Change paramters and run!🎊\n",
    "\n",
    "# @markdown ### input files\n",
    "input_dir = \"/content/drive/MyDrive/ln-recommender/\"  # @param {type:\"string\"}\n",
    "input_freq = \"freq.txt\"  # @param {type:\"string\"}\n",
    "output_csv = \"/content/drive/MyDrive/ln-recommender/output.csv\"  # @param {type:\"string\"}\n",
    "\n",
    "!ln-recommender eval -ml model.cbm -f \"{input_freq}\" -d \"{input_dir}\" -o \"{output_csv}\""
   ]
  }
 ],
 "metadata": {
  "colab": {
   "provenance": []
  },
  "kernelspec": {
   "display_name": "Python 3",
   "name": "python3"
  },
  "language_info": {
   "name": "python"
  }
 },
 "nbformat": 4,
 "nbformat_minor": 0
}
